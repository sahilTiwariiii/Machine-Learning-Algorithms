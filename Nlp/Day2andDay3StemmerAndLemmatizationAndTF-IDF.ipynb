{
 "cells": [
  {
   "cell_type": "markdown",
   "id": "fb13b967-334b-49b9-9455-30f25b446f41",
   "metadata": {},
   "source": [
    "# Day --> 2 Stemming and Lemmatization"
   ]
  },
  {
   "cell_type": "code",
   "execution_count": 1,
   "id": "d760d4d8-f38b-4431-832d-49432081764e",
   "metadata": {},
   "outputs": [
    {
     "name": "stdout",
     "output_type": "stream",
     "text": [
      "Requirement already satisfied: nltk in c:\\python311\\lib\\site-packages (3.8.1)\n",
      "Requirement already satisfied: click in c:\\python311\\lib\\site-packages (from nltk) (8.1.7)\n",
      "Requirement already satisfied: joblib in c:\\python311\\lib\\site-packages (from nltk) (1.3.2)\n",
      "Requirement already satisfied: regex>=2021.8.3 in c:\\python311\\lib\\site-packages (from nltk) (2024.4.16)\n",
      "Requirement already satisfied: tqdm in c:\\python311\\lib\\site-packages (from nltk) (4.66.2)\n",
      "Requirement already satisfied: colorama in c:\\python311\\lib\\site-packages (from click->nltk) (0.4.6)\n",
      "Note: you may need to restart the kernel to use updated packages.\n"
     ]
    },
    {
     "name": "stderr",
     "output_type": "stream",
     "text": [
      "\n",
      "[notice] A new release of pip is available: 23.1.2 -> 24.0\n",
      "[notice] To update, run: C:\\Python311\\python.exe -m pip install --upgrade pip\n"
     ]
    }
   ],
   "source": [
    "pip install nltk\n"
   ]
  },
  {
   "cell_type": "code",
   "execution_count": 2,
   "id": "44d5aa09-e4cc-46ec-b24e-0813c762aff1",
   "metadata": {},
   "outputs": [],
   "source": [
    "paragraph=\"Narendra Damodardas Modi (Gujarati: [ˈnəɾendɾə dɑmodəɾˈdɑs ˈmodiː]; born 17 September 1950) is an Indian politician who has served as the 14th prime minister of India since May 2014. Modi was the chief minister of Gujarat from 2001 to 2014 and is the Member of Parliament (MP) for Varanasi.\""
   ]
  },
  {
   "cell_type": "code",
   "execution_count": 3,
   "id": "0042ef26-be8a-4b69-b4cd-1305f874c005",
   "metadata": {},
   "outputs": [],
   "source": [
    "import nltk\n",
    "from nltk.stem import PorterStemmer # 'PorterStreamer' this is specificly used for 'Stemming' stemming help you to find out the base 'root word'\n",
    "from nltk.corpus import stopwords"
   ]
  },
  {
   "cell_type": "code",
   "execution_count": 4,
   "id": "7aa969ac-1327-436e-bc95-e9bef997474e",
   "metadata": {},
   "outputs": [
    {
     "name": "stderr",
     "output_type": "stream",
     "text": [
      "[nltk_data] Error loading punkt: <urlopen error [Errno 11001]\n",
      "[nltk_data]     getaddrinfo failed>\n"
     ]
    }
   ],
   "source": [
    "## tokenization -converts paragraph into sentences-words\n",
    "# now for tokenization we had something called sent_tokenize() so this will convert my paragraph into sentences and to use sent_tokenize() we had to download 'punkt'\n",
    "nltk.download('punkt')\n",
    "sentences=nltk.sent_tokenize(paragraph)"
   ]
  },
  {
   "cell_type": "code",
   "execution_count": 5,
   "id": "466cc321-54c1-41d5-9bce-2e92dcdab3e4",
   "metadata": {},
   "outputs": [
    {
     "data": {
      "text/plain": [
       "['Narendra Damodardas Modi (Gujarati: [ˈnəɾendɾə dɑmodəɾˈdɑs ˈmodiː]; born 17 September 1950) is an Indian politician who has served as the 14th prime minister of India since May 2014.',\n",
       " 'Modi was the chief minister of Gujarat from 2001 to 2014 and is the Member of Parliament (MP) for Varanasi.']"
      ]
     },
     "execution_count": 5,
     "metadata": {},
     "output_type": "execute_result"
    }
   ],
   "source": [
    "sentences"
   ]
  },
  {
   "cell_type": "code",
   "execution_count": 6,
   "id": "65fcbe57-7a56-4b48-9e51-3b6ef7d572eb",
   "metadata": {},
   "outputs": [
    {
     "name": "stdout",
     "output_type": "stream",
     "text": [
      "['Narendra Damodardas Modi (Gujarati: [ˈnəɾendɾə dɑmodəɾˈdɑs ˈmodiː]; born 17 September 1950) is an Indian politician who has served as the 14th prime minister of India since May 2014.', 'Modi was the chief minister of Gujarat from 2001 to 2014 and is the Member of Parliament (MP) for Varanasi.']\n"
     ]
    }
   ],
   "source": [
    "print(sentences)"
   ]
  },
  {
   "cell_type": "code",
   "execution_count": 7,
   "id": "40111c27-49e3-4b57-b140-3525725be36b",
   "metadata": {},
   "outputs": [
    {
     "data": {
      "text/plain": [
       "list"
      ]
     },
     "execution_count": 7,
     "metadata": {},
     "output_type": "execute_result"
    }
   ],
   "source": [
    "type(sentences)"
   ]
  },
  {
   "cell_type": "code",
   "execution_count": 8,
   "id": "ec77f58e-a279-4d95-ad1d-6b55535aa471",
   "metadata": {},
   "outputs": [],
   "source": [
    "stemmer=PorterStemmer()  # 'PorterStreamer' this is specificly used for 'Stemming' stemming help you to find out the base 'root word'"
   ]
  },
  {
   "cell_type": "markdown",
   "id": "da880679-e8d1-45bc-ad46-7bb8d4fe27a2",
   "metadata": {},
   "source": [
    "# Stemming"
   ]
  },
  {
   "cell_type": "code",
   "execution_count": 9,
   "id": "4ae6e6c6-2f31-4a4b-b02f-cb86544d0184",
   "metadata": {},
   "outputs": [
    {
     "data": {
      "text/plain": [
       "'go'"
      ]
     },
     "execution_count": 9,
     "metadata": {},
     "output_type": "execute_result"
    }
   ],
   "source": [
    "# Example 1\n",
    "stemmer.stem('going') "
   ]
  },
  {
   "cell_type": "markdown",
   "id": "a3cfd246-02d4-4e0a-8eb5-0dc8bb8021b0",
   "metadata": {},
   "source": [
    "so above as you seen that i had applied 'stemming' , in the word 'going' using stemmer object 'PorterStemmer()' and stemming converts this word into its root word 'go'"
   ]
  },
  {
   "cell_type": "code",
   "execution_count": 10,
   "id": "359e492d-78e7-44af-9bec-495aec2eaedc",
   "metadata": {},
   "outputs": [
    {
     "data": {
      "text/plain": [
       "'think'"
      ]
     },
     "execution_count": 10,
     "metadata": {},
     "output_type": "execute_result"
    }
   ],
   "source": [
    "# Example 2\n",
    "stemmer.stem('thinking')"
   ]
  },
  {
   "cell_type": "markdown",
   "id": "6c99e9e3-65ad-43aa-954a-f8d9bdc4c158",
   "metadata": {},
   "source": [
    "so above as you seen that i had applied 'stemming' , in the word 'thinking' using stemmer object 'PorterStemmer()' and stemming converts this word into its root word 'think'"
   ]
  },
  {
   "cell_type": "code",
   "execution_count": 11,
   "id": "6d03b07e-4699-4b8d-8b33-029f60bb435d",
   "metadata": {},
   "outputs": [
    {
     "data": {
      "text/plain": [
       "'drink'"
      ]
     },
     "execution_count": 11,
     "metadata": {},
     "output_type": "execute_result"
    }
   ],
   "source": [
    "# Example 3\n",
    "stemmer.stem('drinking')"
   ]
  },
  {
   "cell_type": "markdown",
   "id": "325aae55-f22e-4cff-a91f-a38cdf52e76b",
   "metadata": {},
   "source": [
    "so above as you seen that i had applied 'stemming' , in the word 'drinking' using stemmer object 'PorterStemmer()' and stemming converts this word into its root word 'drink'"
   ]
  },
  {
   "cell_type": "code",
   "execution_count": 12,
   "id": "4a19c4c8-771d-406d-bb4e-adcb122a9419",
   "metadata": {},
   "outputs": [
    {
     "data": {
      "text/plain": [
       "'histori'"
      ]
     },
     "execution_count": 12,
     "metadata": {},
     "output_type": "execute_result"
    }
   ],
   "source": [
    "# Example 4\n",
    "stemmer.stem('history')"
   ]
  },
  {
   "cell_type": "markdown",
   "id": "8d4604cc-e1ec-4cec-b2ce-b5d3f363d2a6",
   "metadata": {},
   "source": [
    "so above as you seen that i had applied 'stemming' , in the word 'history' using stemmer object 'PorterStemmer()' and stemming converts this word into its root word 'histori'"
   ]
  },
  {
   "cell_type": "markdown",
   "id": "da53f7e1-05f8-452d-930a-233ee903388a",
   "metadata": {},
   "source": [
    "# Lemmitization"
   ]
  },
  {
   "cell_type": "code",
   "execution_count": 13,
   "id": "be7e5ada-5486-4944-b01f-d0dedcb7919a",
   "metadata": {},
   "outputs": [],
   "source": [
    "from nltk.stem import WordNetLemmatizer"
   ]
  },
  {
   "cell_type": "code",
   "execution_count": 14,
   "id": "31fc67ab-562a-4918-a1ce-d1816707676d",
   "metadata": {},
   "outputs": [],
   "source": [
    "lemmatizer=WordNetLemmatizer()"
   ]
  },
  {
   "cell_type": "code",
   "execution_count": 15,
   "id": "64368db7-c25a-48eb-935c-d844f170d6b2",
   "metadata": {},
   "outputs": [
    {
     "name": "stderr",
     "output_type": "stream",
     "text": [
      "[nltk_data] Error loading wordnet: <urlopen error [Errno 11001]\n",
      "[nltk_data]     getaddrinfo failed>\n"
     ]
    },
    {
     "data": {
      "text/plain": [
       "False"
      ]
     },
     "execution_count": 15,
     "metadata": {},
     "output_type": "execute_result"
    }
   ],
   "source": [
    "import nltk\n",
    "nltk.download('wordnet')"
   ]
  },
  {
   "cell_type": "code",
   "execution_count": 16,
   "id": "0249ca08-dff5-4b89-91f6-1390cfb5a877",
   "metadata": {},
   "outputs": [
    {
     "data": {
      "text/plain": [
       "'going'"
      ]
     },
     "execution_count": 16,
     "metadata": {},
     "output_type": "execute_result"
    }
   ],
   "source": [
    "# Example 1\n",
    "lemmatizer.lemmatize('going')"
   ]
  },
  {
   "cell_type": "markdown",
   "id": "f5b39549-cafa-4e9f-8865-8a76e4bbeb9f",
   "metadata": {},
   "source": [
    "so above as you seen that i had applied 'stemming' , in the word 'going' using stemmer object 'PorterStemmer()' and stemming converts this word into its root word 'goind'"
   ]
  },
  {
   "cell_type": "code",
   "execution_count": 17,
   "id": "6a59d0a5-8bd0-47bf-9a06-1ab7c95d4094",
   "metadata": {},
   "outputs": [
    {
     "data": {
      "text/plain": [
       "'thinking'"
      ]
     },
     "execution_count": 17,
     "metadata": {},
     "output_type": "execute_result"
    }
   ],
   "source": [
    "# Example 2\n",
    "lemmatizer.lemmatize('thinking')"
   ]
  },
  {
   "cell_type": "markdown",
   "id": "269d9dc6-f3f3-4033-86a1-e0612b76c7bd",
   "metadata": {},
   "source": [
    "so above as you seen that i had applied 'stemming' , in the word 'thinking' using stemmer object 'PorterStemmer()' and stemming converts this word into its root word 'thinking'"
   ]
  },
  {
   "cell_type": "code",
   "execution_count": 18,
   "id": "6df857b3-cdf7-4dc3-a1cd-b25287bc3079",
   "metadata": {},
   "outputs": [
    {
     "data": {
      "text/plain": [
       "'drinking'"
      ]
     },
     "execution_count": 18,
     "metadata": {},
     "output_type": "execute_result"
    }
   ],
   "source": [
    "# Example 3\n",
    "lemmatizer.lemmatize('drinking')"
   ]
  },
  {
   "cell_type": "markdown",
   "id": "6eb389d1-2616-416b-aa90-2f14e3526be3",
   "metadata": {},
   "source": [
    "so above as you seen that i had applied 'stemming' , in the word 'drinking' using stemmer object 'PorterStemmer()' and stemming converts this word into its root word 'drinking'"
   ]
  },
  {
   "cell_type": "code",
   "execution_count": 19,
   "id": "ceec56d9-89b3-4ff1-8d08-ba77457ca1a3",
   "metadata": {},
   "outputs": [
    {
     "data": {
      "text/plain": [
       "'history'"
      ]
     },
     "execution_count": 19,
     "metadata": {},
     "output_type": "execute_result"
    }
   ],
   "source": [
    "# Example 4\n",
    "lemmatizer.lemmatize('history')"
   ]
  },
  {
   "cell_type": "markdown",
   "id": "88e88ead-a6fb-457d-8216-c7945f93d8ae",
   "metadata": {},
   "source": [
    "so above as you seen that i had applied 'stemming' , in the word 'history' using stemmer object 'PorterStemmer()' and stemming converts this word into its root word 'history'"
   ]
  },
  {
   "cell_type": "markdown",
   "id": "e87ae48f-eda5-4ba6-acf2-22de728ed0bb",
   "metadata": {},
   "source": [
    "Now let's clean the entire paragraph because paragraph contains many special characters like ',','\\n',':' etc "
   ]
  },
  {
   "cell_type": "code",
   "execution_count": 20,
   "id": "63970cc3-6d1b-4940-992a-63e696230997",
   "metadata": {},
   "outputs": [],
   "source": [
    "# So , for cleaning purpose we use 'regularization'\n",
    "import re"
   ]
  },
  {
   "cell_type": "code",
   "execution_count": 21,
   "id": "cbd1bcc2-1bfb-4518-989c-cf937d857faf",
   "metadata": {},
   "outputs": [],
   "source": [
    "\n",
    "corpus=[]\n",
    "for i in range(len(sentences)):\n",
    "    review=re.sub('[^a-zA-Z]',' ',sentences[i])\n",
    "    review=review.lower()\n",
    "    corpus.append(review)"
   ]
  },
  {
   "cell_type": "code",
   "execution_count": 22,
   "id": "dd0d18f2-3074-4e31-a6ed-f9c907ec6908",
   "metadata": {},
   "outputs": [
    {
     "data": {
      "text/plain": [
       "['narendra damodardas modi  gujarati    n  end   d mod   d s  modi    born    september       is an indian politician who has served as the   th prime minister of india since may      ',\n",
       " 'modi was the chief minister of gujarat from      to      and is the member of parliament  mp  for varanasi ']"
      ]
     },
     "execution_count": 22,
     "metadata": {},
     "output_type": "execute_result"
    }
   ],
   "source": [
    "corpus"
   ]
  },
  {
   "cell_type": "markdown",
   "id": "7921da1c-7fed-4aaf-be9c-fe446bbc51da",
   "metadata": {},
   "source": [
    "Now applying 'stemmer' in entire paragraph"
   ]
  },
  {
   "cell_type": "code",
   "execution_count": 23,
   "id": "4f73ade5-4e50-42c0-9977-bfc6b5b5e579",
   "metadata": {},
   "outputs": [
    {
     "name": "stderr",
     "output_type": "stream",
     "text": [
      "[nltk_data] Error loading stopwords: <urlopen error [Errno 11001]\n",
      "[nltk_data]     getaddrinfo failed>\n"
     ]
    },
    {
     "data": {
      "text/plain": [
       "False"
      ]
     },
     "execution_count": 23,
     "metadata": {},
     "output_type": "execute_result"
    }
   ],
   "source": [
    "import nltk\n",
    "nltk.download('stopwords')"
   ]
  },
  {
   "cell_type": "code",
   "execution_count": 24,
   "id": "d0ad8a8a-8cbc-4f84-87de-33ab93535de5",
   "metadata": {},
   "outputs": [
    {
     "name": "stdout",
     "output_type": "stream",
     "text": [
      "narendra\n",
      "damodarda\n",
      "modi\n",
      "gujarati\n",
      "n\n",
      "end\n",
      "mod\n",
      "modi\n",
      "born\n",
      "septemb\n",
      "indian\n",
      "politician\n",
      "serv\n",
      "th\n",
      "prime\n",
      "minist\n",
      "india\n",
      "sinc\n",
      "may\n",
      "modi\n",
      "chief\n",
      "minist\n",
      "gujarat\n",
      "member\n",
      "parliament\n",
      "mp\n",
      "varanasi\n"
     ]
    }
   ],
   "source": [
    "# Stemming\n",
    "for i in corpus:\n",
    "  words=nltk.word_tokenize(i)\n",
    "  for word in words:\n",
    "      if word not in set(stopwords.words('english')):\n",
    "       print(stemmer.stem(word))"
   ]
  },
  {
   "cell_type": "markdown",
   "id": "53e5c3bb-8cb4-4a9f-9f86-6961cc53b47e",
   "metadata": {},
   "source": [
    "Now we can also apply 'Lemmatizaion' in entire paragraph\n"
   ]
  },
  {
   "cell_type": "code",
   "execution_count": 25,
   "id": "d147a4fc-d686-4ade-ac83-fa8d2fbf1517",
   "metadata": {},
   "outputs": [
    {
     "name": "stdout",
     "output_type": "stream",
     "text": [
      "narendra\n",
      "damodardas\n",
      "modi\n",
      "gujarati\n",
      "n\n",
      "end\n",
      "mod\n",
      "modi\n",
      "born\n",
      "september\n",
      "indian\n",
      "politician\n",
      "served\n",
      "th\n",
      "prime\n",
      "minister\n",
      "india\n",
      "since\n",
      "may\n",
      "modi\n",
      "chief\n",
      "minister\n",
      "gujarat\n",
      "member\n",
      "parliament\n",
      "mp\n",
      "varanasi\n"
     ]
    }
   ],
   "source": [
    "# Lemmatizer\n",
    "for i in corpus:\n",
    "  words=nltk.word_tokenize(i)\n",
    "  for word in words:\n",
    "      if word not in set(stopwords.words('english')):\n",
    "       print(lemmatizer.lemmatize(word))"
   ]
  },
  {
   "cell_type": "markdown",
   "id": "49119ba7-1108-4758-8103-42b038a5d8c9",
   "metadata": {},
   "source": [
    "# BaggOfWords"
   ]
  },
  {
   "cell_type": "code",
   "execution_count": 26,
   "id": "6c374a3a-3f31-4cdf-ba79-e82ca076c31d",
   "metadata": {},
   "outputs": [],
   "source": [
    "from sklearn.feature_extraction.text import CountVectorizer\n",
    "cv=CountVectorizer()"
   ]
  },
  {
   "cell_type": "code",
   "execution_count": 27,
   "id": "377e642d-81f0-4650-8b8d-b8bc87598c39",
   "metadata": {},
   "outputs": [],
   "source": [
    "X=cv.fit_transform(corpus)"
   ]
  },
  {
   "cell_type": "code",
   "execution_count": 28,
   "id": "2528a889-d048-4c5e-b5f4-ea19ce50da1a",
   "metadata": {},
   "outputs": [
    {
     "data": {
      "text/plain": [
       "{'narendra': 21,\n",
       " 'damodardas': 5,\n",
       " 'modi': 19,\n",
       " 'gujarati': 10,\n",
       " 'end': 6,\n",
       " 'mod': 18,\n",
       " 'born': 3,\n",
       " 'september': 26,\n",
       " 'is': 14,\n",
       " 'an': 0,\n",
       " 'indian': 13,\n",
       " 'politician': 24,\n",
       " 'who': 34,\n",
       " 'has': 11,\n",
       " 'served': 27,\n",
       " 'as': 2,\n",
       " 'the': 30,\n",
       " 'th': 29,\n",
       " 'prime': 25,\n",
       " 'minister': 17,\n",
       " 'of': 22,\n",
       " 'india': 12,\n",
       " 'since': 28,\n",
       " 'may': 15,\n",
       " 'was': 33,\n",
       " 'chief': 4,\n",
       " 'gujarat': 9,\n",
       " 'from': 8,\n",
       " 'to': 31,\n",
       " 'and': 1,\n",
       " 'member': 16,\n",
       " 'parliament': 23,\n",
       " 'mp': 20,\n",
       " 'for': 7,\n",
       " 'varanasi': 32}"
      ]
     },
     "execution_count": 28,
     "metadata": {},
     "output_type": "execute_result"
    }
   ],
   "source": [
    "cv.vocabulary_"
   ]
  },
  {
   "cell_type": "markdown",
   "id": "c53175f0-1377-4aa5-aa71-e647444258a4",
   "metadata": {},
   "source": [
    "so every words had assigned a index number "
   ]
  },
  {
   "cell_type": "code",
   "execution_count": 29,
   "id": "c1cf383f-02f7-4eb4-9d7f-447c0c1a1326",
   "metadata": {},
   "outputs": [
    {
     "data": {
      "text/plain": [
       "'narendra damodardas modi  gujarati    n  end   d mod   d s  modi    born    september       is an indian politician who has served as the   th prime minister of india since may      '"
      ]
     },
     "execution_count": 29,
     "metadata": {},
     "output_type": "execute_result"
    }
   ],
   "source": [
    "corpus[0]"
   ]
  },
  {
   "cell_type": "code",
   "execution_count": 30,
   "id": "83d64d04-d816-44d8-9140-aad20533972f",
   "metadata": {},
   "outputs": [
    {
     "data": {
      "text/plain": [
       "array([[1, 0, 1, 1, 0, 1, 1, 0, 0, 0, 1, 1, 1, 1, 1, 1, 0, 1, 1, 2, 0, 1,\n",
       "        1, 0, 1, 1, 1, 1, 1, 1, 1, 0, 0, 0, 1]], dtype=int64)"
      ]
     },
     "execution_count": 30,
     "metadata": {},
     "output_type": "execute_result"
    }
   ],
   "source": [
    "X[0].toarray()"
   ]
  },
  {
   "cell_type": "markdown",
   "id": "b56b940d-54ec-4145-9041-70b0892cb8ce",
   "metadata": {},
   "source": [
    "# Day --> 3  TF-IDF(Term frequency - Inverse Document frequency)"
   ]
  },
  {
   "cell_type": "code",
   "execution_count": 31,
   "id": "5231d1ce-8cf5-4cb6-aeca-456963b1e787",
   "metadata": {},
   "outputs": [],
   "source": [
    "# TF-IDF\n",
    "from sklearn.feature_extraction.text import TfidfVectorizer\n",
    "cv=TfidfVectorizer()\n",
    "X=cv.fit_transform(corpus)"
   ]
  },
  {
   "cell_type": "code",
   "execution_count": 32,
   "id": "9bdc0f54-cd1f-4926-9157-7b74ec1e2c8b",
   "metadata": {},
   "outputs": [
    {
     "data": {
      "text/plain": [
       "'narendra damodardas modi  gujarati    n  end   d mod   d s  modi    born    september       is an indian politician who has served as the   th prime minister of india since may      '"
      ]
     },
     "execution_count": 32,
     "metadata": {},
     "output_type": "execute_result"
    }
   ],
   "source": [
    "corpus[0]"
   ]
  },
  {
   "cell_type": "code",
   "execution_count": 35,
   "id": "4fc2aa73-a93f-424f-8dc3-cf1526afb767",
   "metadata": {},
   "outputs": [
    {
     "data": {
      "text/plain": [
       "array([[0.20828835, 0.        , 0.20828835, 0.20828835, 0.        ,\n",
       "        0.20828835, 0.20828835, 0.        , 0.        , 0.        ,\n",
       "        0.20828835, 0.20828835, 0.20828835, 0.20828835, 0.14819888,\n",
       "        0.20828835, 0.        , 0.14819888, 0.20828835, 0.29639776,\n",
       "        0.        , 0.20828835, 0.14819888, 0.        , 0.20828835,\n",
       "        0.20828835, 0.20828835, 0.20828835, 0.20828835, 0.20828835,\n",
       "        0.14819888, 0.        , 0.        , 0.        , 0.20828835]])"
      ]
     },
     "execution_count": 35,
     "metadata": {},
     "output_type": "execute_result"
    }
   ],
   "source": [
    "X[0].toarray()"
   ]
  },
  {
   "cell_type": "markdown",
   "id": "a311bf41-bb6a-41f2-8896-b118dd4a0619",
   "metadata": {},
   "source": [
    "So , above you had seen that every sentence had diffrent diffrent frequency so you had seen the diffrent diffrent frequency so when we are applying TF-IDF then every word get some frequency"
   ]
  },
  {
   "cell_type": "markdown",
   "id": "ff4ad042-699d-43e4-914d-54951e779b38",
   "metadata": {},
   "source": [
    "# Now if i want top 10 frequency of words, then we use function called 'max_feature=10'"
   ]
  },
  {
   "cell_type": "code",
   "execution_count": 38,
   "id": "3fe4195c-49ac-43a6-a483-bc0bc8bc9b46",
   "metadata": {},
   "outputs": [],
   "source": [
    "from sklearn.feature_extraction.text import TfidfVectorizer\n",
    "cv=TfidfVectorizer(max_features=10)\n",
    "X=cv.fit_transform(corpus)"
   ]
  },
  {
   "cell_type": "code",
   "execution_count": 37,
   "id": "d7798bb4-1b33-4dbe-97a9-1735f41e08f2",
   "metadata": {},
   "outputs": [
    {
     "data": {
      "text/plain": [
       "array([[0.26797042, 0.26797042, 0.53594084, 0.        , 0.37662308,\n",
       "        0.26797042, 0.        , 0.37662308, 0.37662308, 0.26797042]])"
      ]
     },
     "execution_count": 37,
     "metadata": {},
     "output_type": "execute_result"
    }
   ],
   "source": [
    "X[0].toarray()"
   ]
  },
  {
   "cell_type": "code",
   "execution_count": null,
   "id": "71a60e4c-9d16-4877-88b2-7ca5b467a9e9",
   "metadata": {},
   "outputs": [],
   "source": []
  }
 ],
 "metadata": {
  "kernelspec": {
   "display_name": "Python 3 (ipykernel)",
   "language": "python",
   "name": "python3"
  },
  "language_info": {
   "codemirror_mode": {
    "name": "ipython",
    "version": 3
   },
   "file_extension": ".py",
   "mimetype": "text/x-python",
   "name": "python",
   "nbconvert_exporter": "python",
   "pygments_lexer": "ipython3",
   "version": "3.11.4"
  }
 },
 "nbformat": 4,
 "nbformat_minor": 5
}
