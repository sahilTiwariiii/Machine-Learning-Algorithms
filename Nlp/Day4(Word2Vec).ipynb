{
 "cells": [
  {
   "cell_type": "markdown",
   "id": "e1b0cf5c-7c3e-4f35-afa5-3f571d6463b8",
   "metadata": {},
   "source": [
    "# Wrod2Vec"
   ]
  },
  {
   "cell_type": "code",
   "execution_count": 2,
   "id": "acd3f5ad-9c1d-4ec5-80b0-6aedcaa3a309",
   "metadata": {},
   "outputs": [
    {
     "name": "stdout",
     "output_type": "stream",
     "text": [
      "Requirement already satisfied: gensim in c:\\python311\\lib\\site-packages (4.3.2)\n",
      "Requirement already satisfied: numpy>=1.18.5 in c:\\python311\\lib\\site-packages (from gensim) (1.26.3)\n",
      "Requirement already satisfied: scipy>=1.7.0 in c:\\python311\\lib\\site-packages (from gensim) (1.12.0)\n",
      "Requirement already satisfied: smart-open>=1.8.1 in c:\\python311\\lib\\site-packages (from gensim) (7.0.4)\n",
      "Requirement already satisfied: wrapt in c:\\python311\\lib\\site-packages (from smart-open>=1.8.1->gensim) (1.16.0)\n",
      "Note: you may need to restart the kernel to use updated packages.\n"
     ]
    },
    {
     "name": "stderr",
     "output_type": "stream",
     "text": [
      "\n",
      "[notice] A new release of pip is available: 23.1.2 -> 24.0\n",
      "[notice] To update, run: C:\\Python311\\python.exe -m pip install --upgrade pip\n"
     ]
    }
   ],
   "source": [
    "pip install gensim"
   ]
  },
  {
   "cell_type": "markdown",
   "id": "fb60f5e4-8cc9-462e-b258-9a56406851f4",
   "metadata": {},
   "source": [
    "we are using gensim library to implement 'Word2Vec'"
   ]
  },
  {
   "cell_type": "code",
   "execution_count": 4,
   "id": "2f4dc843-73c9-40c5-ae53-3b9b8a92e735",
   "metadata": {},
   "outputs": [],
   "source": [
    "from gensim.models import Word2Vec, KeyedVectors"
   ]
  },
  {
   "cell_type": "code",
   "execution_count": null,
   "id": "b16bf72d-9e43-4819-a989-612d11f83d76",
   "metadata": {},
   "outputs": [],
   "source": [
    "import gensim.downloader as api\n",
    "wv=api.load('word2vec-google-news-300')\n",
    "vec_king=wv['king']"
   ]
  },
  {
   "cell_type": "code",
   "execution_count": null,
   "id": "291d74f4-3218-4449-b7a2-3829266ac2c3",
   "metadata": {},
   "outputs": [],
   "source": [
    "vec_king"
   ]
  },
  {
   "cell_type": "code",
   "execution_count": null,
   "id": "10854b45-148b-45f8-81c8-88cba550bf84",
   "metadata": {},
   "outputs": [],
   "source": [
    "wv.most_similar('man')"
   ]
  },
  {
   "cell_type": "code",
   "execution_count": null,
   "id": "ace11d68-77de-4166-8a75-b776e450f60b",
   "metadata": {},
   "outputs": [],
   "source": [
    "wv.similarity('man','king')"
   ]
  },
  {
   "cell_type": "code",
   "execution_count": null,
   "id": "99360c2d-0de6-418c-91b1-5ca6541dede5",
   "metadata": {},
   "outputs": [],
   "source": [
    "wv.similarity('html','programmer')"
   ]
  },
  {
   "cell_type": "code",
   "execution_count": null,
   "id": "e600f73c-dbb7-4c3f-b5bc-975d272e6ebe",
   "metadata": {},
   "outputs": [],
   "source": [
    "vec=wv['king']-wv['man']+wv['woman']\n",
    "wv.most_similar([vec])"
   ]
  },
  {
   "cell_type": "code",
   "execution_count": null,
   "id": "60c9a840-68a4-4cd9-b3a2-ce5241682662",
   "metadata": {},
   "outputs": [],
   "source": [
    "# Word2Vec\n",
    "import os\n",
    "from os import path\n",
    "from wordcloud import WordCloud"
   ]
  },
  {
   "cell_type": "code",
   "execution_count": null,
   "id": "382dcef7-d7ac-48e9-95d7-e994b2dd3bf2",
   "metadata": {},
   "outputs": [],
   "source": [
    "text=\"\""
   ]
  },
  {
   "cell_type": "code",
   "execution_count": null,
   "id": "54053225-2415-4032-8971-033092196ce3",
   "metadata": {},
   "outputs": [],
   "source": [
    "# Generate a word cloud image\n",
    "wordcloud=WordCloud().generate(text)"
   ]
  },
  {
   "cell_type": "code",
   "execution_count": null,
   "id": "3bd541cb-548f-43ea-9b06-d2ec752df9d2",
   "metadata": {},
   "outputs": [],
   "source": [
    "wordcloud"
   ]
  },
  {
   "cell_type": "code",
   "execution_count": null,
   "id": "b824eb82-454b-4eb2-97df-0be62a5da38f",
   "metadata": {},
   "outputs": [],
   "source": [
    "# Display the generated image\n",
    "# the matplotlib way\n",
    "import matplotlib.pyplot as plt\n",
    "plt.imshow(wordcloud,interpolation='bilinear')\n",
    "plt.axis(\"off\")"
   ]
  },
  {
   "cell_type": "code",
   "execution_count": null,
   "id": "21e9d925-8918-446d-9c0f-1c0e4bacf111",
   "metadata": {},
   "outputs": [],
   "source": [
    "# lower max_front_size\n",
    "wordcloud=WordCloud(max_front_size=40).generate(text)\n",
    "plt.figure()\n",
    "plt.imshow(wordcloud,interpolation=\"bilinear\")\n",
    "plt.axis(\"off\")\n",
    "plt.show()"
   ]
  }
 ],
 "metadata": {
  "kernelspec": {
   "display_name": "Python 3 (ipykernel)",
   "language": "python",
   "name": "python3"
  },
  "language_info": {
   "codemirror_mode": {
    "name": "ipython",
    "version": 3
   },
   "file_extension": ".py",
   "mimetype": "text/x-python",
   "name": "python",
   "nbconvert_exporter": "python",
   "pygments_lexer": "ipython3",
   "version": "3.11.4"
  }
 },
 "nbformat": 4,
 "nbformat_minor": 5
}
